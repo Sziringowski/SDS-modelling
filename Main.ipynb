{
 "cells": [
  {
   "cell_type": "markdown",
   "id": "e072ffb5-dcc3-4b05-a65b-d1e1fdc7819c",
   "metadata": {},
   "source": [
    "# МОДЕЛИРОВАНИЕ СИСТЕМЫ ХРАНЕНИЯ ДАННЫХ"
   ]
  },
  {
   "cell_type": "markdown",
   "id": "f7057372-b32c-476e-909c-b7a526b61076",
   "metadata": {},
   "source": [
    "## ОПИСАНИЕ"
   ]
  },
  {
   "cell_type": "markdown",
   "id": "bdead1d9-88d3-4481-9a1f-f514efb39eb2",
   "metadata": {},
   "source": [
    "## СОДЕРЖАНИЕ"
   ]
  },
  {
   "cell_type": "markdown",
   "id": "67f2b9db-c077-4821-b42e-aa34072e9857",
   "metadata": {},
   "source": [
    "## РЕЗЮМЕ"
   ]
  },
  {
   "cell_type": "markdown",
   "id": "b53191cb-bfb2-4aa6-99cd-f568d6d06326",
   "metadata": {},
   "source": [
    "## КОНФИГУРАЦИЯ"
   ]
  },
  {
   "cell_type": "markdown",
   "id": "3bc862b4-237d-44c0-a0af-2196389b71d3",
   "metadata": {},
   "source": [
    "### ИМПОРТ БИБЛИОТЕК"
   ]
  },
  {
   "cell_type": "code",
   "execution_count": 136,
   "id": "de601291-cc31-4830-8da0-bde578075558",
   "metadata": {},
   "outputs": [],
   "source": [
    "# import pymc3 as pm\n",
    "import numpy as np\n",
    "import pandas as pd\n",
    "from sklearn.preprocessing import OneHotEncoder\n",
    "import itertools\n",
    "import re\n",
    "import glob\n",
    "from sklearn.linear_model import LinearRegression, Ridge, Lasso, ARDRegression\n",
    "from sklearn.metrics import mean_squared_error, r2_score\n",
    "from sklearn.model_selection import train_test_split\n",
    "from sklearn.preprocessing import scale, StandardScaler, MinMaxScaler\n",
    "import matplotlib.pyplot as plt"
   ]
  },
  {
   "cell_type": "code",
   "execution_count": 137,
   "id": "eaa8e89e-b21a-40c1-bd41-f206cb61bb82",
   "metadata": {},
   "outputs": [],
   "source": [
    "folder_path = 'Correct sizes'  # Path of raw data"
   ]
  },
  {
   "cell_type": "markdown",
   "id": "e93c3f76-b42a-4f46-b9b2-9f69b2a554af",
   "metadata": {},
   "source": [
    "### DOCUMENTATION\n",
    "\n",
    "Фиксируем возможные значения параметров, описываем их тип."
   ]
  },
  {
   "cell_type": "code",
   "execution_count": 138,
   "id": "4d4a7987-e262-4ef2-9fc4-d639fd33836e",
   "metadata": {},
   "outputs": [],
   "source": [
    "doc = {'protection': ['2REP', '3REP', 'EC2.1'],  #cat. # maybe more types later\n",
    "       'size': [8, 128, 1e3, 128e3],  # cont.\n",
    "       'nodes': np.linspace(4, 16, 13, dtype = int),  # cont.\n",
    "       'type': ['write', 'read'],  # cat.\n",
    "       'HW_chassis': ['X205', 'VEGMAN'],  # cat.\n",
    "       'SSD': [2, 4]  # cont.\n",
    "      }\n",
    "\n",
    "cat_params = ['protection', 'type', 'HW_chassis']\n",
    "cont_params = ['size', 'nodes', 'SSD']\n",
    "\n",
    "all_options = np.array(list(itertools.product( *(doc[key] for key in list(doc.keys())) )))\n",
    "\n",
    "all_options_w_ops = np.concatenate((all_options, [[0] for _ in range(len(all_options))]), axis = 1)\n"
   ]
  },
  {
   "cell_type": "markdown",
   "id": "d2c0db1c-b7fd-4e22-886e-8f7b030c6532",
   "metadata": {},
   "source": [
    "**Установим общий вид .txt / .md файла замера**\n",
    "\n",
    "```\n",
    "protection=<protecrion_value>\n",
    "HW_chassis=<hardware_chassis_value>\n",
    "SSD=<number_of_ssd>\n",
    "\n",
    "### <number_of_nodes> nodes <object's_size> <type> // begin of size\n",
    "INFO[<time>] Load started at: <date> (<timezone>) source=<source_value> \n",
    "INFO[<time>] Load finished at: <date> (<timezone>)source=<source_value>   \n",
    "█ setup\n",
    "\n",
    "\\``` // _begin of block with size results from one installation_\n",
    " █ teardown\n",
    "\n",
    " aws_obj_put_bytes......: <float> <unit_of_measurement>  <float><unit_of_measurement>/s\n",
    " \n",
    " aws_obj_put_duration...: avg=<float><unit_of_measurement> min=<float><unit_of_measurement> med=<float><unit_of_measurement> max=<float><unit_of_measurement> p(90)=<float><unit_of_measurement>  p(95)=<float><unit_of_measurement>\n",
    " aws_obj_put_success....: <float> <float>/s\n",
    " data_received..........: <float> <unit_of_measurement> <float> <unit_of_measurement>/s\n",
    " data_sent..............: <float> <unit_of_measurement> <float> <unit_of_measurement>/s\n",
    " iteration_duration.....: avg=<float><unit_of_measurement> min=<float><unit_of_measurement> med=<float><unit_of_measurement> max=<float><unit_of_measurement> p(90)=<float><unit_of_measurement>  p(95)=<float><unit_of_measurement>\n",
    " iterations.............: <float> <float>/s\n",
    " vus....................: <float> min=<float> max=<float>\n",
    "\\``` // _end of block with size results from one installation_\n",
    "// there can be several blocks for one size\n",
    "```"
   ]
  },
  {
   "cell_type": "markdown",
   "id": "f286dd09-5c7a-4478-861b-5fad87484059",
   "metadata": {},
   "source": [
    "## ИССЛЕДУЕМЫЕ ДАННЫЕ"
   ]
  },
  {
   "cell_type": "markdown",
   "id": "1fcdff13-a094-48e8-8a1b-aa1e643bb2bf",
   "metadata": {
    "jp-MarkdownHeadingCollapsed": true
   },
   "source": [
    "### READER\n",
    "\n",
    "Скрипт читает все файлы замеров и переводит замеры в словарь ```Data```, в котором ключи --- параметры железа."
   ]
  },
  {
   "cell_type": "markdown",
   "id": "94883b57-4aaf-4b0d-95e8-0421f27a8815",
   "metadata": {},
   "source": [
    "Структура ```Data```: $$\\left\\{\\begin{pmatrix}protection \\\\ size \\\\ nodes \\\\ w/r \\\\ HW\\_chassis \\\\ SSD \\end{pmatrix}:\\;\\begin{Bmatrix}MB/s: & list \\\\ avg: & list\\\\ min: & list \\\\ med: & list \\\\ max: & list \\\\ p(90): & list \\\\ p(95): & list \\\\ op/s: & list \\\\ op/s\\_loss: & list \\\\ SUM\\_MB/s: & float \\\\ SUM\\_op/s: & float\\end{Bmatrix}\\right\\}$$"
   ]
  },
  {
   "cell_type": "code",
   "execution_count": 139,
   "id": "0f8f646d-0b69-4417-8c69-d8ab894a95e3",
   "metadata": {},
   "outputs": [
    {
     "name": "stdout",
     "output_type": "stream",
     "text": [
      "39 correct number of sizes Correct sizes\\Sizer results for rep3.txt\n",
      "39 get number of sizes Correct sizes\\Sizer results for rep3.txt\n",
      "61 correct number of sizes Correct sizes\\Sizer_results_1.txt\n",
      "61 get number of sizes Correct sizes\\Sizer_results_1.txt\n",
      "40 correct number of sizes Correct sizes\\sizer_results_8nodes_rep2 (2).md\n",
      "40 get number of sizes Correct sizes\\sizer_results_8nodes_rep2 (2).md\n",
      "56 correct number of sizes Correct sizes\\sizer_results_ec2.1_retest_actual.md\n",
      "56 get number of sizes Correct sizes\\sizer_results_ec2.1_retest_actual.md\n"
     ]
    }
   ],
   "source": [
    "txt_files = glob.glob(f\"{folder_path}/*.txt\")\n",
    "md_files = glob.glob(f\"{folder_path}/*.md\")\n",
    "\n",
    "all_files = txt_files + md_files\n",
    "\n",
    "\n",
    "Data = dict()\n",
    "\n",
    "for file_path in all_files:\n",
    "    with open(file_path, 'r', encoding='utf-8') as file:\n",
    "        \n",
    "        ###\n",
    "        lines = file.readlines()\n",
    "        data = []\n",
    "        for line in lines:\n",
    "            data.append( line.strip().split(' ') )\n",
    "\n",
    "\n",
    "        file_protection = [temp_data[0].split('=')[1].upper() for temp_data in data if 'protection' in temp_data[0]][0]\n",
    " \n",
    "        file_HW_chassis = [temp_data[0].split('=')[1].upper() for temp_data in data if 'HW_chassis' in temp_data[0]][0]\n",
    "\n",
    "        file_SSD = [int(temp_data[0].split('=')[1]) for temp_data in data if 'SSD' in temp_data[0]][0]\n",
    "  \n",
    "        i = 0\n",
    "        counter = 0\n",
    "        print(str(data).count('###'),f'correct number of sizes {file_path}')\n",
    "        # realization of data reading functions\n",
    "        while i < len(data):\n",
    "            \n",
    "            if '###' in data[i]:\n",
    "                counter += 1\n",
    "                Params = dict.fromkeys(list(doc.keys()))\n",
    "                for temp in list( Params.keys() ):\n",
    "                    Params[temp] = 0\n",
    "                \n",
    "                temp_data_0 = [k for k in data[i] if len(k) > 0]\n",
    "                \n",
    "                Params['protection'] = file_protection\n",
    "                Params['SSD'] = file_SSD\n",
    "                Params['nodes'] = int(temp_data_0[1])\n",
    "                Params['type'] =  temp_data_0[4].lower()\n",
    "                Params['HW_chassis'] = file_HW_chassis\n",
    "                \n",
    "                if re.fullmatch( r'(\\b\\d*kb\\b)', str( temp_data_0[3] ).lower()):  # size like kb\n",
    "                    Params['size'] = float(temp_data_0[3][:-2])\n",
    "                elif re.fullmatch( r'(\\b\\d*kib\\b)', str( temp_data_0[3] ).lower() ):  #size like kib\n",
    "                    Params['size'] = float(temp_data_0[3][:-3])\n",
    "                elif re.fullmatch( r'(\\b\\d*mb\\b)', str( temp_data_0[3] ).lower() ):  #size like mb\n",
    "                    Params['size'] = float(temp_data_0[3][:-2]) * 1000  # convert to KB\n",
    "                elif re.fullmatch( r'(\\b\\d*mib\\b)', str( temp_data_0[3] ).lower() ):  #size like mib\n",
    "                    Params['size'] = float(temp_data_0[3][:-3]) * 1000\n",
    "                else:\n",
    "                    Params['size'] = 'INCORRECT DATA'\n",
    "                \n",
    "                i += 1\n",
    "                \n",
    "                Input = dict.fromkeys(['MB/s', 'avg', 'min', 'med', 'max', 'p(90)', 'p(95)','op/s','op/s_loss', 'SUM_MB/s','SUM_op/s'])\n",
    "                for temp in list( Input.keys() ):\n",
    "                    Input[temp] = []\n",
    "                '''\n",
    "                op/s_loss --- perfomance fails\n",
    "                SUM_MB/s, SUM_op/s --- SUM of perfomance in MB/s, op/s\n",
    "                '''\n",
    "\n",
    "                while i < len(data) - 1 and not('###' in data[i+1]):\n",
    "                    \n",
    "                    if 'aws_obj_get_bytes' in str(data[i]) or 'aws_obj_put_bytes' in str(data[i]):\n",
    "                        temp_data = [k for k in data[i] if len(k) > 0]\n",
    "                        if str(temp_data[-1]).lower() == 'mb/s':\n",
    "                            Input['MB/s'].append(float(temp_data[-2]))\n",
    "                        elif str(temp_data[-1]).lower() == 'gb/s':\n",
    "                            Input['MB/s'].append(float(temp_data[-2]) * 1000)  # convert to mb/s\n",
    "                        else:\n",
    "                            Input['MB/s'].append('INCORRECT DATA')\n",
    "                    \n",
    "                    if 'aws_obj_get_duration' in str(data[i]) or 'aws_obj_put_duration' in str(data[i]):\n",
    "                        temp_data = [k.split('=') for k in data[i] if len(k) > 0]\n",
    "                        for j in range(1,6+1):                            \n",
    "                            if 'ms' in str(temp_data[j][1]).lower():  # case M.SECONDS\n",
    "                                Input[temp_data[j][0]].append(float(temp_data[j][1][:-2]))  # we suppose that notation <digits>m<digits><MS> is impossible \n",
    "                                    \n",
    "                            else:  # case SECONDS \n",
    "                                match = re.fullmatch( r'(\\b\\d*\\dm\\d\\d*\\w*\\b)', str(temp_data[j][1]).lower() )  # <digits (at least 1)>m<digits (at least 1)><s> - found m in d[b][1] in seconds\n",
    "                                if match:\n",
    "                                    Input[temp_data[j][0]].append((float(str(temp_data[j][1][:-1]).split('m')[0]) * 60 + float(str(temp_data[j][1][:-1]).split('m')[1])) * 1000)  # convert to ms| found m\n",
    "                                else:\n",
    "                                    Input[temp_data[j][0]].append(float(temp_data[j][1][:-1]) * 1000)  # convert to ms\n",
    "            \n",
    "                    if 'aws_obj_put_success' in str(data[i]) or 'aws_obj_get_success' in str(data[i]):\n",
    "                        temp_data = [k for k in data[i] if len(k) > 0]\n",
    "                        Input['op/s'].append(float(temp_data[2][:-2:]))  #obj/s\n",
    "                        \n",
    "            \n",
    "                    if 'aws_obj_get_fails' in str(data[i]):\n",
    "                        temp_data = [k for k in data[i] if len(k) > 0]\n",
    "                        Input['op/s_loss'].append(float(temp_data[2][:-2:]))  #obj/s\n",
    "                    i += 1\n",
    "                ### found '###' or end of file, update our Data                    \n",
    "                \n",
    "                # realization of agregate functions \n",
    "                Input['SUM_MB/s'] = np.sum(Input['MB/s'])\n",
    "                Input['SUM_op/s'] = np.sum(Input['op/s'])\n",
    "                \n",
    "                ###\n",
    "                \n",
    "                Data[tuple(Params.values())] = Input\n",
    "            i += 1\n",
    "                        \n",
    "    print(counter, f'get number of sizes {file_path}')\n"
   ]
  },
  {
   "cell_type": "markdown",
   "id": "e8fd42cb-ebd4-40bc-a74e-cf3bcd7f0402",
   "metadata": {
    "jp-MarkdownHeadingCollapsed": true
   },
   "source": [
    "### CONVERTER\n",
    "\n",
    "Конвертирует словарь ```Data``` в список ```Data_list```."
   ]
  },
  {
   "cell_type": "code",
   "execution_count": 140,
   "id": "96acc94c-676d-447b-b518-0c833fe85b84",
   "metadata": {},
   "outputs": [],
   "source": [
    "Data_list = []\n",
    "for key in list(Data.keys()):\n",
    "    Data_list.append(list(key) + list(Data[key].values()) )\n",
    "Header = list(Params.keys())\n",
    "for key in list(Data.keys()):\n",
    "    Header += list(Data[key].keys())\n",
    "    break"
   ]
  },
  {
   "cell_type": "markdown",
   "id": "d9ba3f79-9fa4-494d-bf9c-72d42d9319d1",
   "metadata": {
    "jp-MarkdownHeadingCollapsed": true
   },
   "source": [
    "### WRITER\n",
    "\n",
    "Записывает ```Data_list``` в .xlsx файл."
   ]
  },
  {
   "cell_type": "code",
   "execution_count": 141,
   "id": "b84112eb-f1d9-425b-ab72-da91994ffbdf",
   "metadata": {},
   "outputs": [],
   "source": [
    "df = pd.DataFrame(Data_list, columns = Header)\n",
    "df.to_excel('output.xlsx', index=False, header=True)"
   ]
  },
  {
   "cell_type": "markdown",
   "id": "dc9619a2-b380-48d3-8245-00e50b7b3365",
   "metadata": {},
   "source": [
    "### ONE HOT ENCODER MODULE\n",
    "\n",
    "Переводит строковые категориальные признаки в унитарные."
   ]
  },
  {
   "cell_type": "code",
   "execution_count": 142,
   "id": "64973302-dd1b-44d5-9f44-dcc593d15cb4",
   "metadata": {},
   "outputs": [],
   "source": [
    "def features_transformation(Data: dict, doc = doc) -> pd.DataFrame:  # CHECK CODE AFTER EVERY UPDATE!\n",
    "    X = np.array([list(key) + [Data[key]['SUM_op/s']] for key in list(Data.keys())])\n",
    "    Y = all_options_w_ops # massive of all posible key values, target values = 0\n",
    "    X = np.vstack((X, Y))\n",
    "    header = list(doc.keys()); header.append('SUM_op/s')\n",
    "    X_OHE_DF = pd.get_dummies(pd.DataFrame(X, columns = header), columns = cat_params, prefix = cat_params)  # cat params\n",
    "    X_OHE_DF['size'] = X_OHE_DF['size'].astype(float)\n",
    "    X_OHE_DF['nodes'] = X_OHE_DF['nodes'].astype(int)\n",
    "    X_OHE_DF['SUM_op/s'] = X_OHE_DF['SUM_op/s'].astype(float)\n",
    "    X_OHE_DF['SSD'] = X_OHE_DF['SSD'].astype(int)\n",
    "    X_OHE_DF = X_OHE_DF.replace({True: 1, False: 0}).infer_objects(copy=False)\n",
    "    return (X_OHE_DF.drop(['protection_2REP', 'type_read', 'HW_chassis_VEGMAN'], axis=1, inplace=False)).head(len(Data))  # drop collinear columns - CAN CHANGES"
   ]
  },
  {
   "cell_type": "code",
   "execution_count": 143,
   "id": "e3e405a0",
   "metadata": {},
   "outputs": [
    {
     "name": "stdout",
     "output_type": "stream",
     "text": [
      "         size  nodes  SSD      SUM_op/s  protection_3REP  protection_EC2.1  \\\n",
      "0         8.0     16    2   9680.554701                1                 0   \n",
      "1         8.0     16    2  20065.334488                1                 0   \n",
      "2       128.0     16    2   5681.330100                1                 0   \n",
      "3       128.0     16    2  18788.737276                1                 0   \n",
      "4      1000.0     16    2   2042.689679                1                 0   \n",
      "..        ...    ...  ...           ...              ...               ...   \n",
      "189     128.0      4    2   1936.546119                0                 1   \n",
      "190    1000.0      4    2    646.974487                0                 1   \n",
      "191    1000.0      4    2    797.192718                0                 1   \n",
      "192  128000.0      4    2      7.994045                0                 1   \n",
      "193  128000.0      4    2     11.903917                0                 1   \n",
      "\n",
      "     type_write  HW_chassis_X205  \n",
      "0             1                1  \n",
      "1             0                1  \n",
      "2             1                1  \n",
      "3             0                1  \n",
      "4             1                1  \n",
      "..          ...              ...  \n",
      "189           0                1  \n",
      "190           1                1  \n",
      "191           0                1  \n",
      "192           1                1  \n",
      "193           0                1  \n",
      "\n",
      "[194 rows x 8 columns]\n"
     ]
    },
    {
     "name": "stderr",
     "output_type": "stream",
     "text": [
      "C:\\Users\\shiri\\AppData\\Local\\Temp\\ipykernel_17132\\4015556992.py:11: FutureWarning: Downcasting behavior in `replace` is deprecated and will be removed in a future version. To retain the old behavior, explicitly call `result.infer_objects(copy=False)`. To opt-in to the future behavior, set `pd.set_option('future.no_silent_downcasting', True)`\n",
      "  X_OHE_DF = X_OHE_DF.replace({True: 1, False: 0}).infer_objects(copy=False)\n"
     ]
    }
   ],
   "source": [
    "print(features_transformation(Data))  # debug"
   ]
  },
  {
   "cell_type": "markdown",
   "id": "a1117dc2-8f8b-43dd-b720-556b36693486",
   "metadata": {},
   "source": [
    "## АНАЛИЗ"
   ]
  },
  {
   "cell_type": "markdown",
   "id": "8c2804c8-5068-41f9-8835-37b236bb9796",
   "metadata": {},
   "source": [
    "### RAW DATA\n",
    "\n",
    "Посмотрим, как ведёт себя целевое значение на имеющихся данных вдоль выбранного параметра при фиксированных прочих."
   ]
  },
  {
   "cell_type": "code",
   "execution_count": 144,
   "id": "a3114e2c-3c41-41de-9a19-dcce43576e2d",
   "metadata": {},
   "outputs": [],
   "source": [
    "def compare (key: tuple, parametr: str, fix_params: dict) -> bool:\n",
    "    i = 0\n",
    "    while str(parametr) != str(list(fix_params.keys())[i]):\n",
    "        if str(key[i]) != str(list(fix_params.values())[i]):\n",
    "            return 0\n",
    "            break\n",
    "        i += 1\n",
    "    i += 1\n",
    "    while i < len(list(fix_params.keys())):\n",
    "        if str(key[i]) != str(list(fix_params.values())[i]):\n",
    "            return 0\n",
    "            break\n",
    "        i += 1\n",
    "    return 1\n",
    "\n",
    "def key_enum (param: str, doc = doc):\n",
    "    i = 0\n",
    "    while i < len(list(doc.keys())):\n",
    "        if str(param) == str(list(doc.keys())[i]):\n",
    "            return i\n",
    "            break\n",
    "        i += 1\n",
    "    return 'ERROR'"
   ]
  },
  {
   "cell_type": "code",
   "execution_count": 145,
   "id": "56c6a06e-3cfe-4fc3-81f2-a65b641be71a",
   "metadata": {},
   "outputs": [
    {
     "name": "stdout",
     "output_type": "stream",
     "text": [
      "remember, that there is some params we must to fix: \n",
      "['protection', 'size', 'nodes', 'type', 'HW_chassis', 'SSD']\n",
      "important: now we`re working with raw data - what we put, that we get\n",
      "\n",
      "continious parametrs:\n",
      "['size', 'nodes', 'SSD']\n",
      "\n",
      "categorial parametrs:\n",
      "['protection', 'type', 'HW_chassis']\n"
     ]
    }
   ],
   "source": [
    "params = list(doc.keys())\n",
    "print(f'remember, that there is some params we must to fix: \\n{params}\\nimportant: now we`re working with raw data - what we put, that we get\\n\\ncontinious parametrs:\\n{cont_params}\\n\\ncategorial parametrs:\\n{cat_params}')"
   ]
  },
  {
   "cell_type": "code",
   "execution_count": 146,
   "id": "dc015538-722c-4b84-8dee-698c4d41ed5f",
   "metadata": {},
   "outputs": [],
   "source": [
    "parametr = 'nodes'\n",
    "'''\n",
    "It's an Ox' value\n",
    "(Oy always is a target value --- perfomance)\n",
    "'''\n",
    "\n",
    "### fix other params for detail searching (order as in documentation dictionary - it`s important)\n",
    "fix_params = {\n",
    "    'protection': '3REP',\n",
    "    'size': 1e3,\n",
    "    'nodes': 15,\n",
    "    'type': 'read',\n",
    "    'HW_chassis': 'X205',\n",
    "    'SSD': 2\n",
    "}\n",
    "### we can define here other pack of params for compare\n",
    "fix_params_2 = {\n",
    "    'protection': '3REP',\n",
    "    'size': 1e3,\n",
    "    'nodes': 15,\n",
    "    'type': 'write',\n",
    "    'HW_chassis': 'X205',\n",
    "    'SSD': 2\n",
    "}\n",
    "###"
   ]
  },
  {
   "cell_type": "code",
   "execution_count": 147,
   "id": "e13150f0-5cfb-49f1-9c10-c63023962a05",
   "metadata": {},
   "outputs": [
    {
     "name": "stdout",
     "output_type": "stream",
     "text": [
      "params:\n",
      "           first graph second graph\n",
      "protection        3REP         3REP\n",
      "size            1000.0       1000.0\n",
      "type              read        write\n",
      "HW_chassis        X205         X205\n",
      "SSD                  2            2\n"
     ]
    },
    {
     "data": {
      "text/plain": [
       "Text(0, 0.5, 'Op per sec')"
      ]
     },
     "execution_count": 147,
     "metadata": {},
     "output_type": "execute_result"
    },
    {
     "data": {
      "image/png": "[encoded data removed]",
      "text/plain": [
       "<Figure size 1200x300 with 2 Axes>"
      ]
     },
     "metadata": {},
     "output_type": "display_data"
    }
   ],
   "source": [
    "Z = np.array((\n",
    "    [\n",
    "        key[key_enum(parametr)] for key in list(Data.keys()) if compare(key, parametr, fix_params)\n",
    "    ],\n",
    "    [\n",
    "        Data[key]['SUM_op/s'] for key in list(Data.keys()) if compare(key, parametr, fix_params)\n",
    "    ]\n",
    ")).T\n",
    "\n",
    "W = np.array((\n",
    "    [\n",
    "        key[key_enum(parametr)] for key in list(Data.keys()) if compare(key, parametr, fix_params_2)\n",
    "    ],\n",
    "    [\n",
    "        Data[key]['SUM_op/s'] for key in list(Data.keys()) if compare(key, parametr, fix_params_2)\n",
    "    ]\n",
    ")).T\n",
    "\n",
    "plt.figure(figsize=(12, 3)) \n",
    "\n",
    "plt.subplot(1, 2, 1)\n",
    "plt.xscale('linear')\n",
    "\n",
    "Z = Z[Z[:, 0].argsort()].T; W = W[W[:, 0].argsort()].T\n",
    "\n",
    "graph_title = {key: {'first graph': fix_params[key], 'second graph': fix_params_2[key]} for key in list(doc.keys())}\n",
    "\n",
    "plt.plot(Z[0], Z[1],'k-', alpha = 1)\n",
    "graph_title.pop(parametr, None)\n",
    "print(f'params:\\n{pd.DataFrame(graph_title).transpose()}')\n",
    "plt.title('first', fontsize=15)\n",
    "plt.xlabel(parametr, fontsize=14, color='k')\n",
    "plt.ylabel('Op per sec', fontsize=14, color='k')\n",
    "\n",
    "\n",
    "plt.subplot(1, 2, 2)\n",
    "plt.xscale('linear')\n",
    "plt.plot(W[0], W[1],'k-', alpha = 1)\n",
    "plt.title('second', fontsize=15)\n",
    "plt.xlabel(parametr, fontsize=14, color='k')\n",
    "plt.ylabel('Op per sec', fontsize=14, color='k')\n",
    "\n",
    "\n"
   ]
  },
  {
   "cell_type": "markdown",
   "id": "dd711ab5-a1f9-4b67-9606-1f50aa3dd6a8",
   "metadata": {},
   "source": [
    "### МОДЕЛИРОВАНИЕ"
   ]
  },
  {
   "cell_type": "markdown",
   "id": "bced8a67-d405-453b-96f8-e76fd39c3c75",
   "metadata": {},
   "source": [
    "_about_: В планах: использовать байесовские методы из PyMC. На данный момент реализация со sklearn."
   ]
  },
  {
   "cell_type": "markdown",
   "id": "19ed3d28",
   "metadata": {},
   "source": [
    "#### Преобразование данных "
   ]
  },
  {
   "cell_type": "code",
   "execution_count": 156,
   "id": "1503c70c-9d69-4ac4-9c12-f204aa9fd395",
   "metadata": {},
   "outputs": [],
   "source": [
    "\n",
    "def size_transformation(X: np.ndarray) -> np.ndarray:\n",
    "    #mu_size = np.concatenate((np.linspace(1, 1e3, 7), [128e3]))\n",
    "    mu_size = [8, 128, 1e3, 128e3]\n",
    "    sigma_size = 2e2\n",
    "    #sigma_size = [10, 10, 1e1, 1e1]\n",
    "    X = X.T\n",
    "    return np.concatenate([\n",
    "        [\n",
    "            np.exp(-(X - mu_size[i]) ** 2 / sigma_size ** 2) for i in range(0, 4)\n",
    "        ] + # size' gaussians\n",
    "        [\n",
    "            X ** i for i in range(0, 2)\n",
    "        ] + # size' poly\n",
    "        [\n",
    "            np.exp(-X ** i) for i in range(1, 3)\n",
    "        ]\n",
    "    ]).T\n",
    "\n",
    "def nodes_transformation(X: np.ndarray) -> np.ndarray:\n",
    "    X.T\n",
    "    return np.concatenate([\n",
    "        [\n",
    "            np.log(X) ** k for k in range(1, 2)\n",
    "        ] + # nodes' log\n",
    "        [\n",
    "            X ** k for k in range(0, 2)\n",
    "        ] # nodes' poly\n",
    "    ]).T\n",
    "\n",
    "def nodes_cross_size_transformation(nodes: np.ndarray, size: np.ndarray) -> np.ndarray:\n",
    "    nodes.T; size.T\n",
    "    cross = []\n",
    "    for x, y in zip(nodes, size):\n",
    "        z = []\n",
    "        z.append(1)\n",
    "        for i in x:\n",
    "            for j in y:\n",
    "                z.append( i * j )\n",
    "        cross.append(z)\n",
    "    return np.array(cross)\n",
    "\n",
    "\n",
    "\n",
    "\n",
    "def phi(Data: dict) -> (np.ndarray, np.ndarray):\n",
    "    raw_features = features_transformation(Data)\n",
    "    categorial = np.array(raw_features.drop(columns=['size', 'nodes', 'SUM_op/s']))\n",
    "    target = np.array(raw_features['SUM_op/s'])\n",
    "    features = np.concatenate(\n",
    "        (\n",
    "            nodes_cross_size_transformation(\n",
    "                nodes_transformation(np.array(raw_features['nodes'])),\n",
    "                size_transformation(np.array(raw_features['size']))\n",
    "            ),\n",
    "            #size_transformation(np.array(raw_features['size'])),\n",
    "            #nodes_transformation(np.array(raw_features['nodes'])),\n",
    "            categorial\n",
    "        ), axis = 1\n",
    "    )\n",
    "    return (features, target)\n",
    "\n"
   ]
  },
  {
   "cell_type": "markdown",
   "id": "1eb270b6",
   "metadata": {},
   "source": [
    "#### Обучение модели"
   ]
  },
  {
   "cell_type": "code",
   "execution_count": 166,
   "id": "f95faf4f",
   "metadata": {},
   "outputs": [
    {
     "name": "stderr",
     "output_type": "stream",
     "text": [
      "C:\\Users\\shiri\\AppData\\Local\\Temp\\ipykernel_17132\\4015556992.py:11: FutureWarning: Downcasting behavior in `replace` is deprecated and will be removed in a future version. To retain the old behavior, explicitly call `result.infer_objects(copy=False)`. To opt-in to the future behavior, set `pd.set_option('future.no_silent_downcasting', True)`\n",
      "  X_OHE_DF = X_OHE_DF.replace({True: 1, False: 0}).infer_objects(copy=False)\n",
      "C:\\Users\\shiri\\AppData\\Local\\Temp\\ipykernel_17132\\4015556992.py:11: FutureWarning: Downcasting behavior in `replace` is deprecated and will be removed in a future version. To retain the old behavior, explicitly call `result.infer_objects(copy=False)`. To opt-in to the future behavior, set `pd.set_option('future.no_silent_downcasting', True)`\n",
      "  X_OHE_DF = X_OHE_DF.replace({True: 1, False: 0}).infer_objects(copy=False)\n"
     ]
    },
    {
     "name": "stdout",
     "output_type": "stream",
     "text": [
      "Weight matrix: [ 1.82313007e+09  5.13985489e+14 -3.64291003e+14  1.02532357e+13\n",
      "  1.17598173e+15 -6.38056697e+11 -1.17143361e+15  9.12628477e+14\n",
      " -1.16593376e+15  6.56097486e+14  5.33315547e+14  9.65984871e+14\n",
      " -8.30665079e+14  1.08803441e+15  1.82018995e+15  4.16608563e+14\n",
      " -4.53852297e+14 -9.52299219e+15  8.05786811e+15  1.12250636e+15\n",
      " -4.12847570e+15 -1.04707684e+15  5.31146162e+15  4.27448748e+15\n",
      "  6.03167950e+14  3.21056250e+03 -7.01679688e+01 -2.49049023e+03\n",
      " -3.00258789e+03  7.35981250e+03]\n",
      "**Metrics**: \n",
      "               Method Training MSE Training R2_ad     Test MSE Test R2_ad\n",
      "0  Linear regression  4219570.415          0.795  4219650.355      0.795\n"
     ]
    }
   ],
   "source": [
    "\n",
    "X = phi(Data)[0]  # predictors \n",
    "Y = phi(Data)[1]  # target\n",
    "X_x_Y = np.column_stack([X,Y])\n",
    "X_x_Y_bootstrap = []\n",
    "for i in np.random.choice(np.linspace(0, len(X_x_Y)-1, len(X_x_Y), dtype = int), size = int(1e5)):\n",
    "    X_x_Y_bootstrap.append( X_x_Y[i] )\n",
    "X_x_Y_bootstrap = np.array(X_x_Y_bootstrap)\n",
    "\n",
    "#X_x_Y_bootstrap = X_x_Y\n",
    "\n",
    "X_train_LR, X_test_LR, Y_train_LR, Y_test_LR = train_test_split(\n",
    "    X_x_Y_bootstrap[:, :-1], \n",
    "    X_x_Y_bootstrap[:, -1], \n",
    "    test_size = .6, \n",
    "    random_state = 28\n",
    ")\n",
    "'''\n",
    "generate train set from our Data\n",
    "'''\n",
    "sc = StandardScaler()\n",
    "sc.fit(X_train_LR[:, :-4])\n",
    "X_train_LR = np.concatenate(\n",
    "    (sc.transform(X_train_LR[:, :-4]), X_train_LR[:, -4:]), axis = 1\n",
    ")\n",
    "X_test_LR = np.concatenate(\n",
    "    (sc.transform(X_test_LR[:, :-4]), X_test_LR[:, -4:]), axis = 1\n",
    ")\n",
    "M = LinearRegression(fit_intercept = False)\n",
    "M.fit(X_train_LR, Y_train_LR) \n",
    "print('Weight matrix:',M.coef_)\n",
    "n = len(list(Data.keys()))\n",
    "k = len(list(Data.keys())[0])\n",
    "\n",
    "### Linear Regression\n",
    "LR_train_MSE = round(mean_squared_error(Y_train_LR, M.predict(X_train_LR)), 3)\n",
    "LR_train_R2_adj = round(1 - (1- r2_score(Y_train_LR, M.predict(X_train_LR)) ) * (n - 1) / (n - k - 1), 3)\n",
    "LR_test_MSE = round(mean_squared_error(Y_test_LR, M.predict(X_test_LR)), 3)\n",
    "LR_test_R2_adj = round(1 - (1- r2_score(Y_test_LR, M.predict(X_test_LR)) ) * (n - 1) / (n - k - 1), 3)\n",
    "###\n",
    "\n",
    "\n",
    "LR_results = pd.DataFrame(['Linear regression', LR_train_MSE, LR_train_R2_adj, LR_test_MSE, LR_test_R2_adj]).transpose()\n",
    "LR_results.columns = ['Method', 'Training MSE', 'Training R2_ad', 'Test MSE', 'Test R2_ad']\n",
    "print('**Metrics**: \\n', LR_results)"
   ]
  },
  {
   "cell_type": "markdown",
   "id": "a8cf8e8e",
   "metadata": {},
   "source": [
    "#### Графики предсказанной даты"
   ]
  },
  {
   "cell_type": "code",
   "execution_count": 172,
   "id": "13c0b317",
   "metadata": {},
   "outputs": [],
   "source": [
    "parametr = 'nodes'\n",
    "'''\n",
    "It's an Ox' value\n",
    "(Oy always is a target value --- perfomance)\n",
    "'''\n",
    "\n",
    "### fix other params for detail searching (order as in documentation dictionary - it`s important)\n",
    "fix_params = {\n",
    "    'protection': '3REP',\n",
    "    'size': 1e3,\n",
    "    'nodes': 15,\n",
    "    'type': 'read',\n",
    "    'HW_chassis': 'X205',\n",
    "    'SSD': 2\n",
    "}\n",
    "### we can define here other pack of params for compare\n",
    "fix_params_2 = {\n",
    "    'protection': '2REP',\n",
    "    'size': 1e3,\n",
    "    'nodes': 15,\n",
    "    'type': 'read',\n",
    "    'HW_chassis': 'X205',\n",
    "    'SSD': 2\n",
    "}\n",
    "###"
   ]
  },
  {
   "cell_type": "code",
   "execution_count": 173,
   "id": "159e1bdc",
   "metadata": {},
   "outputs": [
    {
     "name": "stderr",
     "output_type": "stream",
     "text": [
      "C:\\Users\\shiri\\AppData\\Local\\Temp\\ipykernel_17132\\4015556992.py:11: FutureWarning: Downcasting behavior in `replace` is deprecated and will be removed in a future version. To retain the old behavior, explicitly call `result.infer_objects(copy=False)`. To opt-in to the future behavior, set `pd.set_option('future.no_silent_downcasting', True)`\n",
      "  X_OHE_DF = X_OHE_DF.replace({True: 1, False: 0}).infer_objects(copy=False)\n",
      "C:\\Users\\shiri\\AppData\\Local\\Temp\\ipykernel_17132\\4015556992.py:11: FutureWarning: Downcasting behavior in `replace` is deprecated and will be removed in a future version. To retain the old behavior, explicitly call `result.infer_objects(copy=False)`. To opt-in to the future behavior, set `pd.set_option('future.no_silent_downcasting', True)`\n",
      "  X_OHE_DF = X_OHE_DF.replace({True: 1, False: 0}).infer_objects(copy=False)\n",
      "C:\\Users\\shiri\\AppData\\Local\\Temp\\ipykernel_17132\\4015556992.py:11: FutureWarning: Downcasting behavior in `replace` is deprecated and will be removed in a future version. To retain the old behavior, explicitly call `result.infer_objects(copy=False)`. To opt-in to the future behavior, set `pd.set_option('future.no_silent_downcasting', True)`\n",
      "  X_OHE_DF = X_OHE_DF.replace({True: 1, False: 0}).infer_objects(copy=False)\n",
      "C:\\Users\\shiri\\AppData\\Local\\Temp\\ipykernel_17132\\4015556992.py:11: FutureWarning: Downcasting behavior in `replace` is deprecated and will be removed in a future version. To retain the old behavior, explicitly call `result.infer_objects(copy=False)`. To opt-in to the future behavior, set `pd.set_option('future.no_silent_downcasting', True)`\n",
      "  X_OHE_DF = X_OHE_DF.replace({True: 1, False: 0}).infer_objects(copy=False)\n"
     ]
    },
    {
     "name": "stdout",
     "output_type": "stream",
     "text": [
      "Z_p= [[4.000e+00 3.071e+03]\n",
      " [5.000e+00 3.227e+03]\n",
      " [6.000e+00 3.413e+03]\n",
      " [7.000e+00 3.622e+03]\n",
      " [8.000e+00 3.846e+03]\n",
      " [9.000e+00 4.082e+03]\n",
      " [1.000e+01 4.327e+03]\n",
      " [1.100e+01 4.577e+03]\n",
      " [1.200e+01 4.837e+03]\n",
      " [1.300e+01 5.101e+03]\n",
      " [1.400e+01 5.371e+03]\n",
      " [1.500e+01 5.643e+03]\n",
      " [1.600e+01 5.918e+03]]\n",
      "params:\n",
      "           first set second set\n",
      "protection      3REP       2REP\n",
      "size          1000.0     1000.0\n",
      "type            read       read\n",
      "HW_chassis      X205       X205\n",
      "SSD                2          2\n"
     ]
    },
    {
     "data": {
      "text/plain": [
       "Text(0, 0.5, 'Op per sec')"
      ]
     },
     "execution_count": 173,
     "metadata": {},
     "output_type": "execute_result"
    },
    {
     "data": {
      "image/png": "[encoded data removed]",
      "text/plain": [
       "<Figure size 1200x800 with 2 Axes>"
      ]
     },
     "metadata": {},
     "output_type": "display_data"
    }
   ],
   "source": [
    "Z = np.array((\n",
    "    [\n",
    "        key[key_enum(parametr)] for key in list(Data.keys()) if compare(key, parametr, fix_params)\n",
    "    ],\n",
    "    [\n",
    "        Data[key]['SUM_op/s'] for key in list(Data.keys()) if compare(key, parametr, fix_params)\n",
    "    ]\n",
    ")).T\n",
    "\n",
    "W = np.array((\n",
    "    [\n",
    "        key[key_enum(parametr)] for key in list(Data.keys()) if compare(key, parametr, fix_params_2)\n",
    "    ],\n",
    "    [\n",
    "        Data[key]['SUM_op/s'] for key in list(Data.keys()) if compare(key, parametr, fix_params_2)\n",
    "    ]\n",
    ")).T\n",
    "\n",
    "\n",
    "### from old realization 1st set\n",
    "target_params = [ fix_params.copy() for _ in range(len(doc[parametr])) ]\n",
    "for i in range(len(doc[parametr])):\n",
    "    target_params[i][parametr] = doc[parametr][i]\n",
    "target_keys = [ tuple(x.values()) for x in target_params ]\n",
    "target_values = [ Data[key]['SUM_op/s'] for key in target_keys if key in list(Data.keys())]\n",
    "Data_t = {key: {'SUM_op/s': 0} for key in target_keys}\n",
    "###\n",
    "\n",
    "### from old realization 2nd set\n",
    "target_params_2 = [ fix_params_2.copy() for _ in range(len(doc[parametr])) ]\n",
    "for i in range(len(doc[parametr])):\n",
    "    target_params_2[i][parametr] = doc[parametr][i]\n",
    "target_keys_2 = [ tuple(x.values()) for x in target_params_2 ]\n",
    "target_values_2 = [ Data[key]['SUM_op/s'] for key in target_keys_2 if key in list(Data.keys())]\n",
    "Data_t_2 = {key: {'SUM_op/s': 0} for key in target_keys_2}\n",
    "###\n",
    "\n",
    "Z_p = np.array((\n",
    "    [ x[parametr] for x in target_params],\n",
    "    M.predict(np.concatenate(\n",
    "    (sc.transform(phi(Data_t)[0][:, :-4]), phi(Data_t)[0][:, -4:]), axis = 1\n",
    "    ))\n",
    ")).T\n",
    "\n",
    "W_p = np.array((\n",
    "    [ x[parametr] for x in target_params_2],\n",
    "    M.predict(np.concatenate(\n",
    "    (sc.transform(phi(Data_t_2)[0][:, :-4]), phi(Data_t_2)[0][:, -4:]), axis = 1\n",
    "    ))\n",
    ")).T\n",
    "\n",
    "print('Z_p=', Z_p)\n",
    "\n",
    "plt.figure(figsize=(12, 8)) \n",
    "\n",
    "# ITERPOLATION\n",
    "\n",
    "plt.subplot(2, 2, 1)\n",
    "plt.xscale('linear')\n",
    "\n",
    "Z = Z[Z[:, 0].argsort()].T; W = W[W[:, 0].argsort()].T\n",
    "Z_p = Z_p[Z_p[:, 0].argsort()].T; W_p = W_p[W_p[:, 0].argsort()].T\n",
    "\n",
    "graph_title = {key: {'first set': fix_params[key], 'second set': fix_params_2[key]} for key in list(doc.keys())}\n",
    "\n",
    "plt.plot(Z[0], Z[1],'k-', alpha = 1)  # raw\n",
    "plt.plot(Z_p[0], Z_p[1],'r-', alpha = 1)  # predicted\n",
    "\n",
    "graph_title.pop(parametr, None)\n",
    "print(f'params:\\n{pd.DataFrame(graph_title).transpose()}')\n",
    "plt.title('first', fontsize=15)\n",
    "plt.xlabel(parametr, fontsize=14, color='k')\n",
    "plt.ylabel('Op per sec', fontsize=14, color='k')\n",
    "\n",
    "plt.subplot(2, 2, 2)\n",
    "plt.xscale('linear')\n",
    "plt.plot(W[0], W[1],'k-', alpha = 1)  # raw\n",
    "plt.plot(W_p[0], W_p[1],'r-', alpha = 1)  # predicted\n",
    "\n",
    "plt.title('second', fontsize=15)\n",
    "plt.xlabel(parametr, fontsize=14, color='k')\n",
    "plt.ylabel('Op per sec', fontsize=14, color='k')\n",
    "\n",
    "\n"
   ]
  },
  {
   "cell_type": "markdown",
   "id": "03594b5f-bebb-48c6-89f7-f1e9a7944a74",
   "metadata": {},
   "source": [
    "## ИТОГИ"
   ]
  }
 ],
 "metadata": {
  "kernelspec": {
   "display_name": "base",
   "language": "python",
   "name": "python3"
  },
  "language_info": {
   "codemirror_mode": {
    "name": "ipython",
    "version": 3
   },
   "file_extension": ".py",
   "mimetype": "text/x-python",
   "name": "python",
   "nbconvert_exporter": "python",
   "pygments_lexer": "ipython3",
   "version": "3.12.4"
  }
 },
 "nbformat": 4,
 "nbformat_minor": 5
}
